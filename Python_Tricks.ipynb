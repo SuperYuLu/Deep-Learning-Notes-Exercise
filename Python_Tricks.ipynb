{
 "cells": [
  {
   "cell_type": "markdown",
   "metadata": {},
   "source": [
    "# Table of Contents\n",
    "* [1. About](#1.-About)\n",
    "* [2. Shape 1 array quick convert to shape 2](#2.-Shape-1-array-quick-convert-to-shape-2)\n",
    "* [3. One-hot Encoding of Numbered elements](#3.-One-hot-Encoding-of-Numbered-elements)\n"
   ]
  },
  {
   "cell_type": "markdown",
   "metadata": {},
   "source": [
    "# 1. About"
   ]
  },
  {
   "cell_type": "markdown",
   "metadata": {},
   "source": [
    "This juyter notebook is a summary of a few nice and handy python tricks that I found when I was learning Deep Learning. \n",
    "\n",
    "- Author: Yu Lu\n",
    "- Create: 2018/03/11\n",
    "- Last update: 2018/03/11"
   ]
  },
  {
   "cell_type": "code",
   "execution_count": 1,
   "metadata": {},
   "outputs": [],
   "source": [
    "import numpy as np "
   ]
  },
  {
   "cell_type": "markdown",
   "metadata": {},
   "source": [
    "# 2. Shape 1 array quick convert to shape 2"
   ]
  },
  {
   "cell_type": "markdown",
   "metadata": {},
   "source": [
    "Convert shape one array( e.g. (5,) to (5,1) or (1, 5)) can be done by np.reshape, but another simple way is as follows:"
   ]
  },
  {
   "cell_type": "code",
   "execution_count": 14,
   "metadata": {},
   "outputs": [
    {
     "name": "stdout",
     "output_type": "stream",
     "text": [
      "[1 2 3 4 5]\n",
      "(5,)\n",
      "(5, 1)\n",
      "(1, 5)\n"
     ]
    }
   ],
   "source": [
    "a = np.array([1,2,3,4,5])\n",
    "print(a)\n",
    "print(a.shape)\n",
    "print(a[:,None].shape)\n",
    "print(a[None ,:].shape)"
   ]
  },
  {
   "cell_type": "markdown",
   "metadata": {},
   "source": [
    "# 3. One-hot Encoding of Numbered elements"
   ]
  },
  {
   "cell_type": "markdown",
   "metadata": {},
   "source": [
    "In the situation of dealing with classificiation problems of ML/DL, converting an array of numbered elements (e.g. array([1,2,3,4,5,6,7, 9, 10]) to one-hot encoded arraies 0 -> array([1, 0,0,0,0,0,0,0,0,0]), 1 - > array([0, 1, 0,0,0,0,0,0,0,0,0]), etc is always a starting step.  Surely one can use Sklearn.preprocessing.LaberEncoder or Tensorflow tf.one_hot function, but there is another handy way to go which only uses numpy."
   ]
  },
  {
   "cell_type": "code",
   "execution_count": 10,
   "metadata": {
    "scrolled": true
   },
   "outputs": [
    {
     "data": {
      "text/plain": [
       "array([[1., 0., 0., 0., 0., 0.],\n",
       "       [0., 0., 0., 1., 0., 0.],\n",
       "       [0., 0., 0., 0., 1., 0.],\n",
       "       [0., 1., 0., 0., 0., 0.],\n",
       "       [0., 0., 1., 0., 0., 0.],\n",
       "       [0., 0., 0., 0., 0., 1.]], dtype=float16)"
      ]
     },
     "execution_count": 10,
     "metadata": {},
     "output_type": "execute_result"
    }
   ],
   "source": [
    "elements = np.array([0, 3, 4, 1, 2, 5])\n",
    "numElements  = len(np.unique(elements))\n",
    "(np.arange(numElements) == elements[:, None]).astype(np.float16)"
   ]
  },
  {
   "cell_type": "code",
   "execution_count": null,
   "metadata": {},
   "outputs": [],
   "source": []
  }
 ],
 "metadata": {
  "kernelspec": {
   "display_name": "Python 3",
   "language": "python",
   "name": "python3"
  },
  "language_info": {
   "codemirror_mode": {
    "name": "ipython",
    "version": 3
   },
   "file_extension": ".py",
   "mimetype": "text/x-python",
   "name": "python",
   "nbconvert_exporter": "python",
   "pygments_lexer": "ipython3",
   "version": "3.6.4"
  }
 },
 "nbformat": 4,
 "nbformat_minor": 2
}
