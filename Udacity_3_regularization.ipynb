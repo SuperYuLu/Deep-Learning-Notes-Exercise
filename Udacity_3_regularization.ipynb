{
 "cells": [
  {
   "cell_type": "markdown",
   "metadata": {},
   "source": [
    "# About  \n",
    "This jupyter notebook is the assignment 3 of lesson 3, Udacity class \"Deep Learning\"  \n",
    "Finished on: 2018/06/17"
   ]
  },
  {
   "cell_type": "markdown",
   "metadata": {
    "colab_type": "text",
    "id": "kR-4eNdK6lYS"
   },
   "source": [
    "Deep Learning\n",
    "=============\n",
    "\n",
    "Assignment 3\n",
    "------------\n",
    "\n",
    "Previously in `2_fullyconnected.ipynb`, you trained a logistic regression and a neural network model.\n",
    "\n",
    "The goal of this assignment is to explore regularization techniques."
   ]
  },
  {
   "cell_type": "code",
   "execution_count": 1,
   "metadata": {
    "cellView": "both",
    "colab": {
     "autoexec": {
      "startup": false,
      "wait_interval": 0
     }
    },
    "colab_type": "code",
    "id": "JLpLa8Jt7Vu4"
   },
   "outputs": [],
   "source": [
    "# These are all the modules we'll be using later. Make sure you can import them\n",
    "# before proceeding further.\n",
    "from __future__ import print_function\n",
    "import numpy as np\n",
    "import tensorflow as tf\n",
    "from six.moves import cPickle as pickle"
   ]
  },
  {
   "cell_type": "markdown",
   "metadata": {
    "colab_type": "text",
    "id": "1HrCK6e17WzV"
   },
   "source": [
    "First reload the data we generated in `1_notmnist.ipynb`."
   ]
  },
  {
   "cell_type": "code",
   "execution_count": 2,
   "metadata": {
    "cellView": "both",
    "colab": {
     "autoexec": {
      "startup": false,
      "wait_interval": 0
     },
     "output_extras": [
      {
       "item_id": 1
      }
     ]
    },
    "colab_type": "code",
    "executionInfo": {
     "elapsed": 11777,
     "status": "ok",
     "timestamp": 1449849322348,
     "user": {
      "color": "",
      "displayName": "",
      "isAnonymous": false,
      "isMe": true,
      "permissionId": "",
      "photoUrl": "",
      "sessionId": "0",
      "userId": ""
     },
     "user_tz": 480
    },
    "id": "y3-cj1bpmuxc",
    "outputId": "e03576f1-ebbe-4838-c388-f1777bcc9873"
   },
   "outputs": [
    {
     "name": "stdout",
     "output_type": "stream",
     "text": [
      "Training set (200000, 28, 28) (200000,)\n",
      "Validation set (10000, 28, 28) (10000,)\n",
      "Test set (10000, 28, 28) (10000,)\n"
     ]
    }
   ],
   "source": [
    "pickle_file = './data/notMNIST.pickle'\n",
    "\n",
    "with open(pickle_file, 'rb') as f:\n",
    "  save = pickle.load(f)\n",
    "  train_dataset = save['train_dataset']\n",
    "  train_labels = save['train_labels']\n",
    "  valid_dataset = save['valid_dataset']\n",
    "  valid_labels = save['valid_labels']\n",
    "  test_dataset = save['test_dataset']\n",
    "  test_labels = save['test_labels']\n",
    "  del save  # hint to help gc free up memory\n",
    "  print('Training set', train_dataset.shape, train_labels.shape)\n",
    "  print('Validation set', valid_dataset.shape, valid_labels.shape)\n",
    "  print('Test set', test_dataset.shape, test_labels.shape)"
   ]
  },
  {
   "cell_type": "markdown",
   "metadata": {
    "colab_type": "text",
    "id": "L7aHrm6nGDMB"
   },
   "source": [
    "Reformat into a shape that's more adapted to the models we're going to train:\n",
    "- data as a flat matrix,\n",
    "- labels as float 1-hot encodings."
   ]
  },
  {
   "cell_type": "code",
   "execution_count": 3,
   "metadata": {
    "cellView": "both",
    "colab": {
     "autoexec": {
      "startup": false,
      "wait_interval": 0
     },
     "output_extras": [
      {
       "item_id": 1
      }
     ]
    },
    "colab_type": "code",
    "executionInfo": {
     "elapsed": 11728,
     "status": "ok",
     "timestamp": 1449849322356,
     "user": {
      "color": "",
      "displayName": "",
      "isAnonymous": false,
      "isMe": true,
      "permissionId": "",
      "photoUrl": "",
      "sessionId": "0",
      "userId": ""
     },
     "user_tz": 480
    },
    "id": "IRSyYiIIGIzS",
    "outputId": "3f8996ee-3574-4f44-c953-5c8a04636582"
   },
   "outputs": [
    {
     "name": "stdout",
     "output_type": "stream",
     "text": [
      "Training set (200000, 784) (200000, 10)\n",
      "Validation set (10000, 784) (10000, 10)\n",
      "Test set (10000, 784) (10000, 10)\n"
     ]
    }
   ],
   "source": [
    "image_size = 28\n",
    "num_labels = 10\n",
    "\n",
    "def reformat(dataset, labels):\n",
    "  dataset = dataset.reshape((-1, image_size * image_size)).astype(np.float32)\n",
    "  # Map 1 to [0.0, 1.0, 0.0 ...], 2 to [0.0, 0.0, 1.0 ...]\n",
    "  labels = (np.arange(num_labels) == labels[:,None]).astype(np.float32)\n",
    "  return dataset, labels\n",
    "train_dataset, train_labels = reformat(train_dataset, train_labels)\n",
    "valid_dataset, valid_labels = reformat(valid_dataset, valid_labels)\n",
    "test_dataset, test_labels = reformat(test_dataset, test_labels)\n",
    "print('Training set', train_dataset.shape, train_labels.shape)\n",
    "print('Validation set', valid_dataset.shape, valid_labels.shape)\n",
    "print('Test set', test_dataset.shape, test_labels.shape)"
   ]
  },
  {
   "cell_type": "code",
   "execution_count": 4,
   "metadata": {
    "cellView": "both",
    "colab": {
     "autoexec": {
      "startup": false,
      "wait_interval": 0
     }
    },
    "colab_type": "code",
    "id": "RajPLaL_ZW6w"
   },
   "outputs": [],
   "source": [
    "def accuracy(predictions, labels):\n",
    "  return (100.0 * np.sum(np.argmax(predictions, 1) == np.argmax(labels, 1))\n",
    "          / predictions.shape[0])"
   ]
  },
  {
   "cell_type": "markdown",
   "metadata": {
    "colab_type": "text",
    "id": "sgLbUAQ1CW-1"
   },
   "source": [
    "---\n",
    "Problem 1\n",
    "---------\n",
    "\n",
    "Introduce and tune L2 regularization for both logistic and neural network models. Remember that L2 amounts to adding a penalty on the norm of the weights to the loss. In TensorFlow, you can compute the L2 loss for a tensor `t` using `nn.l2_loss(t)`. The right amount of regularization should improve your validation / test accuracy.\n",
    "\n",
    "---"
   ]
  },
  {
   "cell_type": "markdown",
   "metadata": {},
   "source": [
    "## Logistic regression model (0 hidden layer NN)"
   ]
  },
  {
   "cell_type": "code",
   "execution_count": 11,
   "metadata": {},
   "outputs": [],
   "source": [
    "train_subset = 10000\n",
    "reg_beta = 0.2 # regularization hyperparameter beta\n",
    "\n",
    "graph = tf.Graph()\n",
    "with graph.as_default():\n",
    "    \n",
    "    # Constants \n",
    "    tf_train_dataset = tf.constant(train_dataset[:train_subset, :])\n",
    "    tf_train_label = tf.constant(train_labels[:train_subset])\n",
    "    tf_valid_dataset = tf.constant(valid_dataset[:train_subset, :])\n",
    "    tf_valid_label = tf.constant(valid_labels[:train_subset])\n",
    "    tf_test_dataset = tf.constant(test_dataset[:train_subset, :])\n",
    "    tf_test_label = tf.constant(test_labels[:train_subset])\n",
    "    \n",
    "    # Variables\n",
    "    weights = tf.Variable(tf.truncated_normal([image_size * image_size, num_labels]))\n",
    "    bias = tf.Variable(tf.zeros([num_labels]))\n",
    "    \n",
    "    # Training \n",
    "    logits = tf.matmul(tf_train_dataset, weights) + bias \n",
    "    loss = tf.reduce_mean(tf.nn.softmax_cross_entropy_with_logits(labels=tf_train_label, logits = logits))\n",
    "    ## L2 norm\n",
    "    loss = tf.reduce_mean(loss + reg_beta * tf.nn.l2_loss(weights))\n",
    "    \n",
    "    # Optimizer \n",
    "    optimizer = tf.train.GradientDescentOptimizer(learning_rate = 0.01).minimize(loss)\n",
    "    \n",
    "    # Predicts\n",
    "    pred_train = tf.nn.softmax(logits)\n",
    "    pred_valid = tf.nn.softmax(tf.matmul(tf_valid_dataset, weights) + bias )\n",
    "    pred_test = tf.nn.softmax(tf.matmul(tf_test_dataset, weights) + bias)\n",
    "    "
   ]
  },
  {
   "cell_type": "code",
   "execution_count": 13,
   "metadata": {},
   "outputs": [
    {
     "name": "stdout",
     "output_type": "stream",
     "text": [
      "Initialized\n",
      "Loss at step 0: 628.211304\n",
      "Training accuracy: 10.7%\n",
      "Validation accuracy: 10.3%\n",
      "Loss at step 50: 511.313171\n",
      "Training accuracy: 13.8%\n",
      "Validation accuracy: 13.9%\n",
      "Loss at step 100: 416.509979\n",
      "Training accuracy: 17.9%\n",
      "Validation accuracy: 18.3%\n",
      "Loss at step 150: 339.625366\n",
      "Training accuracy: 22.8%\n",
      "Validation accuracy: 23.2%\n",
      "Loss at step 200: 277.157776\n",
      "Training accuracy: 28.1%\n",
      "Validation accuracy: 27.7%\n",
      "Loss at step 250: 226.312622\n",
      "Training accuracy: 32.9%\n",
      "Validation accuracy: 33.7%\n",
      "Loss at step 300: 184.887939\n",
      "Training accuracy: 38.6%\n",
      "Validation accuracy: 38.4%\n",
      "Loss at step 350: 151.133865\n",
      "Training accuracy: 43.9%\n",
      "Validation accuracy: 43.4%\n",
      "Loss at step 400: 123.621254\n",
      "Training accuracy: 48.7%\n",
      "Validation accuracy: 48.1%\n",
      "Loss at step 450: 101.173904\n",
      "Training accuracy: 53.3%\n",
      "Validation accuracy: 51.7%\n",
      "Loss at step 500: 82.845200\n",
      "Training accuracy: 56.6%\n",
      "Validation accuracy: 55.0%\n",
      "Loss at step 550: 67.873894\n",
      "Training accuracy: 59.3%\n",
      "Validation accuracy: 57.8%\n",
      "Loss at step 600: 55.643143\n",
      "Training accuracy: 62.0%\n",
      "Validation accuracy: 60.6%\n",
      "Loss at step 650: 45.650894\n",
      "Training accuracy: 64.1%\n",
      "Validation accuracy: 63.1%\n",
      "Loss at step 700: 37.487782\n",
      "Training accuracy: 66.2%\n",
      "Validation accuracy: 65.2%\n",
      "Loss at step 750: 30.819492\n",
      "Training accuracy: 68.0%\n",
      "Validation accuracy: 67.3%\n",
      "Loss at step 800: 25.372917\n",
      "Training accuracy: 69.5%\n",
      "Validation accuracy: 69.1%\n",
      "Loss at step 850: 20.924807\n",
      "Training accuracy: 71.2%\n",
      "Validation accuracy: 70.9%\n",
      "Loss at step 900: 17.292562\n",
      "Training accuracy: 72.6%\n",
      "Validation accuracy: 72.2%\n",
      "Loss at step 950: 14.326927\n",
      "Training accuracy: 74.0%\n",
      "Validation accuracy: 73.5%\n",
      "Loss at step 1000: 11.905763\n",
      "Training accuracy: 75.1%\n",
      "Validation accuracy: 74.5%\n",
      "Test accuracy: 81.1%\n"
     ]
    }
   ],
   "source": [
    "num_steps = 1001\n",
    "with tf.Session(graph = graph) as sess:\n",
    "    tf.initialize_all_variables().run()\n",
    "    print(\"Initialized\")\n",
    "    for step in range(num_steps):\n",
    "        _, l, predictions = sess.run([optimizer, loss, pred_train])\n",
    "        if step % 50 == 0:\n",
    "            print('Loss at step %d: %f' % (step, l))\n",
    "            print('Training accuracy: %.1f%%' % accuracy(predictions, train_labels[:train_subset, :]))\n",
    "            # Calling .eval() on valid_prediction is basically like calling run(), but\n",
    "            # just to get that one numpy array. Note that it recomputes all its graph dependencies.\n",
    "            print('Validation accuracy: %.1f%%' % accuracy(pred_valid.eval(), valid_labels))\n",
    "    print('Test accuracy: %.1f%%' % accuracy(pred_test.eval(), test_labels))"
   ]
  },
  {
   "cell_type": "markdown",
   "metadata": {},
   "source": [
    "# Neural Network model (1 hidden layer, 1024 neurons)"
   ]
  },
  {
   "cell_type": "code",
   "execution_count": 26,
   "metadata": {},
   "outputs": [],
   "source": [
    "train_subset = 10000\n",
    "reg_beta = 0.2 # regularization hyperparameter beta\n",
    "batch_size = 500 \n",
    "hidden_nodes = 1024\n",
    "\n",
    "graph = tf.Graph()\n",
    "with graph.as_default():\n",
    "    \n",
    "    # Placeholders\n",
    "    tf_train_dataset = tf.placeholder(tf.float32, shape = [batch_size, image_size * image_size])\n",
    "    tf_train_label = tf.placeholder(tf.float32, shape = [batch_size, num_labels])\n",
    "    \n",
    "    # Constants\n",
    "    tf_valid_dataset = tf.constant(valid_dataset[:train_subset, :])\n",
    "    tf_valid_label = tf.constant(valid_labels[:train_subset])\n",
    "    tf_test_dataset = tf.constant(test_dataset[:train_subset, :])\n",
    "    tf_test_label = tf.constant(test_labels[:train_subset])\n",
    "    \n",
    "    # Variables\n",
    "    weights_1 = tf.Variable(tf.truncated_normal([image_size * image_size, hidden_nodes]))\n",
    "    bias_1 = tf.Variable(tf.zeros([hidden_nodes]))\n",
    "    \n",
    "    weights_2 = tf.Variable(tf.truncated_normal([hidden_nodes, num_labels]))\n",
    "    bias_2 = tf.Variable(tf.truncated_normal([num_labels]))\n",
    "    \n",
    "    \n",
    "    # Training \n",
    "    logits = tf.matmul(tf_train_dataset, weights_1) + bias_1\n",
    "    relu = tf.nn.relu(logits)\n",
    "    logits = tf.matmul(relu, weights_2) + bias_2\n",
    "    \n",
    "    # Loss\n",
    "    loss = tf.reduce_mean(tf.nn.softmax_cross_entropy_with_logits(labels=tf_train_label, logits = logits))\n",
    "    ## L2 norm\n",
    "    loss = tf.reduce_mean(loss + reg_beta * tf.nn.l2_loss(weights_2))\n",
    "    \n",
    "    # Optimizer \n",
    "    optimizer = tf.train.GradientDescentOptimizer(learning_rate = 0.01).minimize(loss)\n",
    "    \n",
    "    # Predicts\n",
    "    pred_train = tf.nn.softmax(logits)\n",
    "    \n",
    "    logits_valid = tf.matmul(tf_valid_dataset, weights_1) + bias_1\n",
    "    relu_valid = tf.nn.relu(logits_valid)\n",
    "    pred_valid = tf.nn.softmax(tf.matmul(relu_valid, weights_2) + bias_2)\n",
    "    \n",
    "    logits_test = tf.matmul(tf_test_dataset, weights_1) + bias_1\n",
    "    relu_test = tf.nn.relu(logits_test)\n",
    "    pred_test = tf.nn.softmax(tf.matmul(relu_test, weights_2) + bias_2)\n",
    "    "
   ]
  },
  {
   "cell_type": "code",
   "execution_count": 27,
   "metadata": {},
   "outputs": [
    {
     "name": "stdout",
     "output_type": "stream",
     "text": [
      "Initialized\n",
      "Loss at step 0: 1210.989258\n",
      "Training accuracy: 9.0%\n",
      "Validation accuracy: 10.8%\n",
      "Loss at step 50: 679.233582\n",
      "Training accuracy: 66.4%\n",
      "Validation accuracy: 60.9%\n",
      "Loss at step 100: 556.882446\n",
      "Training accuracy: 65.0%\n",
      "Validation accuracy: 67.9%\n",
      "Loss at step 150: 446.955048\n",
      "Training accuracy: 73.6%\n",
      "Validation accuracy: 70.9%\n",
      "Loss at step 200: 364.582031\n",
      "Training accuracy: 75.0%\n",
      "Validation accuracy: 72.2%\n",
      "Loss at step 250: 300.174927\n",
      "Training accuracy: 73.8%\n",
      "Validation accuracy: 73.3%\n",
      "Loss at step 300: 243.154388\n",
      "Training accuracy: 73.8%\n",
      "Validation accuracy: 73.8%\n",
      "Loss at step 350: 199.225189\n",
      "Training accuracy: 75.6%\n",
      "Validation accuracy: 74.5%\n",
      "Loss at step 400: 164.146622\n",
      "Training accuracy: 73.8%\n",
      "Validation accuracy: 75.0%\n",
      "Loss at step 450: 133.221405\n",
      "Training accuracy: 73.4%\n",
      "Validation accuracy: 75.4%\n",
      "Loss at step 500: 107.265060\n",
      "Training accuracy: 74.8%\n",
      "Validation accuracy: 75.5%\n",
      "Loss at step 550: 85.976402\n",
      "Training accuracy: 81.2%\n",
      "Validation accuracy: 76.2%\n",
      "Loss at step 600: 71.382874\n",
      "Training accuracy: 78.0%\n",
      "Validation accuracy: 75.8%\n",
      "Loss at step 650: 61.374500\n",
      "Training accuracy: 76.2%\n",
      "Validation accuracy: 76.5%\n",
      "Loss at step 700: 47.580372\n",
      "Training accuracy: 75.8%\n",
      "Validation accuracy: 76.8%\n",
      "Loss at step 750: 38.532425\n",
      "Training accuracy: 78.6%\n",
      "Validation accuracy: 76.7%\n",
      "Loss at step 800: 30.931534\n",
      "Training accuracy: 79.6%\n",
      "Validation accuracy: 77.3%\n",
      "Loss at step 850: 25.085056\n",
      "Training accuracy: 83.0%\n",
      "Validation accuracy: 77.2%\n",
      "Loss at step 900: 21.142344\n",
      "Training accuracy: 79.6%\n",
      "Validation accuracy: 77.7%\n",
      "Loss at step 950: 17.784126\n",
      "Training accuracy: 77.6%\n",
      "Validation accuracy: 77.7%\n",
      "Loss at step 1000: 14.282162\n",
      "Training accuracy: 76.6%\n",
      "Validation accuracy: 78.2%\n",
      "Test accuracy: 85.3%\n"
     ]
    }
   ],
   "source": [
    "num_steps = 1001\n",
    "with tf.Session(graph = graph) as sess:\n",
    "    tf.initialize_all_variables().run()\n",
    "    print(\"Initialized\")\n",
    "    for step in range(num_steps):\n",
    "        offset = (step * batch_size) % (train_labels.shape[0] - batch_size)\n",
    "        batch_data = train_dataset[offset : (offset + batch_size), :]\n",
    "        batch_labels = train_labels[offset : (offset + batch_size), :]\n",
    "        \n",
    "        feed_dict = {tf_train_dataset: batch_data, \n",
    "                    tf_train_label: batch_labels}\n",
    "        \n",
    "        _, l, predictions = sess.run([optimizer, loss, pred_train], feed_dict = feed_dict)\n",
    "        \n",
    "        if step % 50 == 0:\n",
    "            print('Loss at step %d: %f' % (step, l))\n",
    "            print('Training accuracy: %.1f%%' % accuracy(predictions, batch_labels))\n",
    "            # Calling .eval() on valid_prediction is basically like calling run(), but\n",
    "            # just to get that one numpy array. Note that it recomputes all its graph dependencies.\n",
    "            print('Validation accuracy: %.1f%%' % accuracy(pred_valid.eval(), valid_labels))\n",
    "    print('Test accuracy: %.1f%%' % accuracy(pred_test.eval(), test_labels))"
   ]
  },
  {
   "cell_type": "markdown",
   "metadata": {
    "colab_type": "text",
    "id": "na8xX2yHZzNF"
   },
   "source": [
    "---\n",
    "Problem 2\n",
    "---------\n",
    "Let's demonstrate an extreme case of overfitting. Restrict your training data to just a few batches. What happens?\n",
    "\n",
    "---"
   ]
  },
  {
   "cell_type": "markdown",
   "metadata": {},
   "source": [
    "## Neural Network with a few batches to overfit"
   ]
  },
  {
   "cell_type": "code",
   "execution_count": 28,
   "metadata": {},
   "outputs": [],
   "source": [
    "train_subset = 10000\n",
    "reg_beta = 0.2 # regularization hyperparameter beta\n",
    "batch_size = 2500 # use large batch size so tht only have a few batches to check overfit\n",
    "hidden_nodes = 1024\n",
    "\n",
    "graph = tf.Graph()\n",
    "with graph.as_default():\n",
    "    \n",
    "    # Placeholders\n",
    "    tf_train_dataset = tf.placeholder(tf.float32, shape = [batch_size, image_size * image_size])\n",
    "    tf_train_label = tf.placeholder(tf.float32, shape = [batch_size, num_labels])\n",
    "    \n",
    "    # Constants\n",
    "    tf_valid_dataset = tf.constant(valid_dataset[:train_subset, :])\n",
    "    tf_valid_label = tf.constant(valid_labels[:train_subset])\n",
    "    tf_test_dataset = tf.constant(test_dataset[:train_subset, :])\n",
    "    tf_test_label = tf.constant(test_labels[:train_subset])\n",
    "    \n",
    "    # Variables\n",
    "    weights_1 = tf.Variable(tf.truncated_normal([image_size * image_size, hidden_nodes]))\n",
    "    bias_1 = tf.Variable(tf.zeros([hidden_nodes]))\n",
    "    \n",
    "    weights_2 = tf.Variable(tf.truncated_normal([hidden_nodes, num_labels]))\n",
    "    bias_2 = tf.Variable(tf.truncated_normal([num_labels]))\n",
    "    \n",
    "    \n",
    "    # Training \n",
    "    logits = tf.matmul(tf_train_dataset, weights_1) + bias_1\n",
    "    relu = tf.nn.relu(logits)\n",
    "    logits = tf.matmul(relu, weights_2) + bias_2\n",
    "    \n",
    "    # Loss\n",
    "    loss = tf.reduce_mean(tf.nn.softmax_cross_entropy_with_logits(labels=tf_train_label, logits = logits))\n",
    "    ## L2 norm\n",
    "    loss = tf.reduce_mean(loss + reg_beta * tf.nn.l2_loss(weights_2))\n",
    "    \n",
    "    # Optimizer \n",
    "    optimizer = tf.train.GradientDescentOptimizer(learning_rate = 0.01).minimize(loss)\n",
    "    \n",
    "    # Predicts\n",
    "    pred_train = tf.nn.softmax(logits)\n",
    "    \n",
    "    logits_valid = tf.matmul(tf_valid_dataset, weights_1) + bias_1\n",
    "    relu_valid = tf.nn.relu(logits_valid)\n",
    "    pred_valid = tf.nn.softmax(tf.matmul(relu_valid, weights_2) + bias_2)\n",
    "    \n",
    "    logits_test = tf.matmul(tf_test_dataset, weights_1) + bias_1\n",
    "    relu_test = tf.nn.relu(logits_test)\n",
    "    pred_test = tf.nn.softmax(tf.matmul(relu_test, weights_2) + bias_2)\n",
    "    "
   ]
  },
  {
   "cell_type": "code",
   "execution_count": 29,
   "metadata": {},
   "outputs": [
    {
     "name": "stdout",
     "output_type": "stream",
     "text": [
      "Initialized\n",
      "Loss at step 0: 1199.322876\n",
      "Training accuracy: 8.6%\n",
      "Validation accuracy: 10.6%\n",
      "Loss at step 50: 705.495239\n",
      "Training accuracy: 59.1%\n",
      "Validation accuracy: 58.8%\n",
      "Loss at step 100: 569.368347\n",
      "Training accuracy: 66.1%\n",
      "Validation accuracy: 66.1%\n",
      "Loss at step 150: 458.644135\n",
      "Training accuracy: 69.9%\n",
      "Validation accuracy: 69.2%\n",
      "Loss at step 200: 371.726013\n",
      "Training accuracy: 72.9%\n",
      "Validation accuracy: 71.3%\n",
      "Loss at step 250: 303.405090\n",
      "Training accuracy: 73.7%\n",
      "Validation accuracy: 72.4%\n",
      "Loss at step 300: 247.893951\n",
      "Training accuracy: 73.9%\n",
      "Validation accuracy: 73.1%\n",
      "Loss at step 350: 202.419571\n",
      "Training accuracy: 74.6%\n",
      "Validation accuracy: 73.7%\n",
      "Loss at step 400: 163.972168\n",
      "Training accuracy: 76.4%\n",
      "Validation accuracy: 74.3%\n",
      "Loss at step 450: 134.226044\n",
      "Training accuracy: 76.3%\n",
      "Validation accuracy: 75.0%\n",
      "Loss at step 500: 109.968369\n",
      "Training accuracy: 75.5%\n",
      "Validation accuracy: 75.3%\n",
      "Loss at step 550: 88.088905\n",
      "Training accuracy: 76.8%\n",
      "Validation accuracy: 75.4%\n",
      "Loss at step 600: 72.981689\n",
      "Training accuracy: 76.4%\n",
      "Validation accuracy: 75.7%\n",
      "Loss at step 650: 58.815186\n",
      "Training accuracy: 76.9%\n",
      "Validation accuracy: 76.2%\n",
      "Loss at step 700: 48.077438\n",
      "Training accuracy: 77.3%\n",
      "Validation accuracy: 76.5%\n",
      "Loss at step 750: 39.639282\n",
      "Training accuracy: 76.2%\n",
      "Validation accuracy: 76.6%\n",
      "Loss at step 800: 31.921925\n",
      "Training accuracy: 78.8%\n",
      "Validation accuracy: 77.0%\n",
      "Loss at step 850: 26.063683\n",
      "Training accuracy: 77.2%\n",
      "Validation accuracy: 77.0%\n",
      "Loss at step 900: 20.899385\n",
      "Training accuracy: 78.4%\n",
      "Validation accuracy: 77.5%\n",
      "Loss at step 950: 17.282282\n",
      "Training accuracy: 78.7%\n",
      "Validation accuracy: 77.5%\n",
      "Loss at step 1000: 13.910648\n",
      "Training accuracy: 78.6%\n",
      "Validation accuracy: 77.9%\n",
      "Test accuracy: 85.2%\n"
     ]
    }
   ],
   "source": [
    "num_steps = 1001\n",
    "with tf.Session(graph = graph) as sess:\n",
    "    tf.initialize_all_variables().run()\n",
    "    print(\"Initialized\")\n",
    "    for step in range(num_steps):\n",
    "        offset = (step * batch_size) % (train_labels.shape[0] - batch_size)\n",
    "        batch_data = train_dataset[offset : (offset + batch_size), :]\n",
    "        batch_labels = train_labels[offset : (offset + batch_size), :]\n",
    "        \n",
    "        feed_dict = {tf_train_dataset: batch_data, \n",
    "                    tf_train_label: batch_labels}\n",
    "        \n",
    "        _, l, predictions = sess.run([optimizer, loss, pred_train], feed_dict = feed_dict)\n",
    "        \n",
    "        if step % 50 == 0:\n",
    "            print('Loss at step %d: %f' % (step, l))\n",
    "            print('Training accuracy: %.1f%%' % accuracy(predictions, batch_labels))\n",
    "            # Calling .eval() on valid_prediction is basically like calling run(), but\n",
    "            # just to get that one numpy array. Note that it recomputes all its graph dependencies.\n",
    "            print('Validation accuracy: %.1f%%' % accuracy(pred_valid.eval(), valid_labels))\n",
    "    print('Test accuracy: %.1f%%' % accuracy(pred_test.eval(), test_labels))"
   ]
  },
  {
   "cell_type": "markdown",
   "metadata": {},
   "source": [
    "** One can see that with reduced batch number overfit lead to low test accuracy **"
   ]
  },
  {
   "cell_type": "markdown",
   "metadata": {
    "colab_type": "text",
    "id": "ww3SCBUdlkRc"
   },
   "source": [
    "---\n",
    "Problem 3\n",
    "---------\n",
    "Introduce Dropout on the hidden layer of the neural network. Remember: Dropout should only be introduced during training, not evaluation, otherwise your evaluation results would be stochastic as well. TensorFlow provides `nn.dropout()` for that, but you have to make sure it's only inserted during training.\n",
    "\n",
    "What happens to our extreme overfitting case?\n",
    "\n",
    "---"
   ]
  },
  {
   "cell_type": "markdown",
   "metadata": {},
   "source": [
    "Introduce keep probality rate: keep_prob for dropout"
   ]
  },
  {
   "cell_type": "markdown",
   "metadata": {},
   "source": [
    "## Neural Network with dropout "
   ]
  },
  {
   "cell_type": "code",
   "execution_count": 32,
   "metadata": {},
   "outputs": [],
   "source": [
    "train_subset = 10000\n",
    "reg_beta = 0.2 # regularization hyperparameter beta\n",
    "batch_size = 2500 # use large batch size so tht only have a few batches to check overfit\n",
    "hidden_nodes = 1024\n",
    "keep_prob = 0.8\n",
    "\n",
    "graph = tf.Graph()\n",
    "with graph.as_default():\n",
    "    \n",
    "    # Placeholders\n",
    "    tf_train_dataset = tf.placeholder(tf.float32, shape = [batch_size, image_size * image_size])\n",
    "    tf_train_label = tf.placeholder(tf.float32, shape = [batch_size, num_labels])\n",
    "    \n",
    "    # Constants\n",
    "    tf_valid_dataset = tf.constant(valid_dataset[:train_subset, :])\n",
    "    tf_valid_label = tf.constant(valid_labels[:train_subset])\n",
    "    tf_test_dataset = tf.constant(test_dataset[:train_subset, :])\n",
    "    tf_test_label = tf.constant(test_labels[:train_subset])\n",
    "    \n",
    "    # Variables\n",
    "    weights_1 = tf.Variable(tf.truncated_normal([image_size * image_size, hidden_nodes]))\n",
    "    bias_1 = tf.Variable(tf.zeros([hidden_nodes]))\n",
    "    \n",
    "    weights_2 = tf.Variable(tf.truncated_normal([hidden_nodes, num_labels]))\n",
    "    bias_2 = tf.Variable(tf.truncated_normal([num_labels]))\n",
    "    \n",
    "    \n",
    "    # Training \n",
    "    logits = tf.matmul(tf_train_dataset, weights_1) + bias_1\n",
    "    relu = tf.nn.relu(logits)\n",
    "    dropout = tf.nn.dropout(relu, keep_prob)\n",
    "    logits = tf.matmul(dropout, weights_2) + bias_2\n",
    "    \n",
    "    # Loss\n",
    "    loss = tf.reduce_mean(tf.nn.softmax_cross_entropy_with_logits(labels=tf_train_label, logits = logits))\n",
    "    ## L2 norm\n",
    "    loss = tf.reduce_mean(loss + reg_beta * tf.nn.l2_loss(weights_2))\n",
    "    \n",
    "    # Optimizer \n",
    "    optimizer = tf.train.GradientDescentOptimizer(learning_rate = 0.01).minimize(loss)\n",
    "    \n",
    "    # Predicts\n",
    "    pred_train = tf.nn.softmax(logits)\n",
    "    \n",
    "    logits_valid = tf.matmul(tf_valid_dataset, weights_1) + bias_1\n",
    "    relu_valid = tf.nn.relu(logits_valid)\n",
    "    pred_valid = tf.nn.softmax(tf.matmul(relu_valid, weights_2) + bias_2)\n",
    "    \n",
    "    logits_test = tf.matmul(tf_test_dataset, weights_1) + bias_1\n",
    "    relu_test = tf.nn.relu(logits_test)\n",
    "    pred_test = tf.nn.softmax(tf.matmul(relu_test, weights_2) + bias_2)\n",
    "    "
   ]
  },
  {
   "cell_type": "code",
   "execution_count": 33,
   "metadata": {},
   "outputs": [
    {
     "name": "stdout",
     "output_type": "stream",
     "text": [
      "Initialized\n",
      "Loss at step 0: 1219.139893\n",
      "Training accuracy: 6.5%\n",
      "Validation accuracy: 6.7%\n",
      "Loss at step 50: 728.422241\n",
      "Training accuracy: 52.4%\n",
      "Validation accuracy: 63.5%\n",
      "Loss at step 100: 576.903259\n",
      "Training accuracy: 62.6%\n",
      "Validation accuracy: 71.0%\n",
      "Loss at step 150: 466.278717\n",
      "Training accuracy: 65.4%\n",
      "Validation accuracy: 73.9%\n",
      "Loss at step 200: 375.564819\n",
      "Training accuracy: 69.0%\n",
      "Validation accuracy: 75.7%\n",
      "Loss at step 250: 305.931152\n",
      "Training accuracy: 71.5%\n",
      "Validation accuracy: 76.8%\n",
      "Loss at step 300: 250.590698\n",
      "Training accuracy: 71.0%\n",
      "Validation accuracy: 77.5%\n",
      "Loss at step 350: 202.889252\n",
      "Training accuracy: 73.1%\n",
      "Validation accuracy: 77.9%\n",
      "Loss at step 400: 164.611145\n",
      "Training accuracy: 73.2%\n",
      "Validation accuracy: 78.4%\n",
      "Loss at step 450: 134.834412\n",
      "Training accuracy: 73.0%\n",
      "Validation accuracy: 78.8%\n",
      "Loss at step 500: 109.871841\n",
      "Training accuracy: 72.5%\n",
      "Validation accuracy: 79.1%\n",
      "Loss at step 550: 87.227806\n",
      "Training accuracy: 74.8%\n",
      "Validation accuracy: 79.5%\n",
      "Loss at step 600: 72.741180\n",
      "Training accuracy: 73.8%\n",
      "Validation accuracy: 79.9%\n",
      "Loss at step 650: 59.111633\n",
      "Training accuracy: 74.3%\n",
      "Validation accuracy: 80.2%\n",
      "Loss at step 700: 47.776085\n",
      "Training accuracy: 75.2%\n",
      "Validation accuracy: 80.5%\n",
      "Loss at step 750: 39.576302\n",
      "Training accuracy: 73.8%\n",
      "Validation accuracy: 80.7%\n",
      "Loss at step 800: 31.448341\n",
      "Training accuracy: 76.6%\n",
      "Validation accuracy: 81.0%\n",
      "Loss at step 850: 25.341627\n",
      "Training accuracy: 75.8%\n",
      "Validation accuracy: 81.1%\n",
      "Loss at step 900: 20.550858\n",
      "Training accuracy: 76.2%\n",
      "Validation accuracy: 81.4%\n",
      "Loss at step 950: 16.694899\n",
      "Training accuracy: 76.4%\n",
      "Validation accuracy: 81.5%\n",
      "Loss at step 1000: 13.332681\n",
      "Training accuracy: 76.5%\n",
      "Validation accuracy: 81.8%\n",
      "Test accuracy: 88.3%\n"
     ]
    }
   ],
   "source": [
    "num_steps = 1001\n",
    "with tf.Session(graph = graph) as sess:\n",
    "    tf.initialize_all_variables().run()\n",
    "    print(\"Initialized\")\n",
    "    for step in range(num_steps):\n",
    "        offset = (step * batch_size) % (train_labels.shape[0] - batch_size)\n",
    "        batch_data = train_dataset[offset : (offset + batch_size), :]\n",
    "        batch_labels = train_labels[offset : (offset + batch_size), :]\n",
    "        \n",
    "        feed_dict = {tf_train_dataset: batch_data, \n",
    "                    tf_train_label: batch_labels}\n",
    "        \n",
    "        _, l, predictions = sess.run([optimizer, loss, pred_train], feed_dict = feed_dict)\n",
    "        \n",
    "        if step % 50 == 0:\n",
    "            print('Loss at step %d: %f' % (step, l))\n",
    "            print('Training accuracy: %.1f%%' % accuracy(predictions, batch_labels))\n",
    "            # Calling .eval() on valid_prediction is basically like calling run(), but\n",
    "            # just to get that one numpy array. Note that it recomputes all its graph dependencies.\n",
    "            print('Validation accuracy: %.1f%%' % accuracy(pred_valid.eval(), valid_labels))\n",
    "    print('Test accuracy: %.1f%%' % accuracy(pred_test.eval(), test_labels))"
   ]
  },
  {
   "cell_type": "markdown",
   "metadata": {},
   "source": [
    "** One can see that test accuracy got imporved by using dropout, compare to previous few batch overfitting case**"
   ]
  },
  {
   "cell_type": "markdown",
   "metadata": {
    "colab_type": "text",
    "id": "-b1hTz3VWZjw"
   },
   "source": [
    "---\n",
    "Problem 4\n",
    "---------\n",
    "\n",
    "Try to get the best performance you can using a multi-layer model! The best reported test accuracy using a deep network is [97.1%](http://yaroslavvb.blogspot.com/2011/09/notmnist-dataset.html?showComment=1391023266211#c8758720086795711595).\n",
    "\n",
    "One avenue you can explore is to add multiple layers.\n",
    "\n",
    "Another one is to use learning rate decay:\n",
    "\n",
    "    global_step = tf.Variable(0)  # count the number of steps taken.\n",
    "    learning_rate = tf.train.exponential_decay(0.5, global_step, ...)\n",
    "    optimizer = tf.train.GradientDescentOptimizer(learning_rate).minimize(loss, global_step=global_step)\n",
    " \n",
    " ---\n"
   ]
  },
  {
   "cell_type": "markdown",
   "metadata": {},
   "source": [
    "## Neural Network with Learning rate decay "
   ]
  },
  {
   "cell_type": "markdown",
   "metadata": {},
   "source": [
    "implement learning rate decay to 1 layer NN wth 1024 neurons"
   ]
  },
  {
   "cell_type": "code",
   "execution_count": 38,
   "metadata": {},
   "outputs": [],
   "source": [
    "train_subset = 10000\n",
    "reg_beta = 0.01 # regularization hyperparameter beta\n",
    "batch_size = 500 # use large batch size so tht only have a few batches to check overfit\n",
    "hidden_nodes = 1024\n",
    "keep_prob = 0.8\n",
    "init_learning_rate = 0.1\n",
    "decay_steps = 200 \n",
    "decay_rate = 0.9\n",
    "\n",
    "graph = tf.Graph()\n",
    "with graph.as_default():\n",
    "    \n",
    "    # Placeholders\n",
    "    tf_train_dataset = tf.placeholder(tf.float32, shape = [batch_size, image_size * image_size])\n",
    "    tf_train_label = tf.placeholder(tf.float32, shape = [batch_size, num_labels])\n",
    "    \n",
    "    # Constants\n",
    "    tf_valid_dataset = tf.constant(valid_dataset[:train_subset, :])\n",
    "    tf_valid_label = tf.constant(valid_labels[:train_subset])\n",
    "    tf_test_dataset = tf.constant(test_dataset[:train_subset, :])\n",
    "    tf_test_label = tf.constant(test_labels[:train_subset])\n",
    "    \n",
    "    # Variables\n",
    "    weights_1 = tf.Variable(tf.truncated_normal([image_size * image_size, hidden_nodes]))\n",
    "    bias_1 = tf.Variable(tf.zeros([hidden_nodes]))\n",
    "    \n",
    "    weights_2 = tf.Variable(tf.truncated_normal([hidden_nodes, num_labels]))\n",
    "    bias_2 = tf.Variable(tf.truncated_normal([num_labels]))\n",
    "    \n",
    "    \n",
    "    # Training \n",
    "    logits = tf.matmul(tf_train_dataset, weights_1) + bias_1\n",
    "    relu = tf.nn.relu(logits)\n",
    "    dropout = tf.nn.dropout(relu, keep_prob)\n",
    "    logits = tf.matmul(dropout, weights_2) + bias_2\n",
    "    \n",
    "    # Loss\n",
    "    loss = tf.reduce_mean(tf.nn.softmax_cross_entropy_with_logits(labels=tf_train_label, logits = logits))\n",
    "    ## L2 norm\n",
    "    loss = tf.reduce_mean(loss + reg_beta * tf.nn.l2_loss(weights_2))\n",
    "    \n",
    "    # Optimizer with learning rate decay\n",
    "    step = tf.Variable(0)\n",
    "    learning_rate = tf.train.exponential_decay(init_learning_rate, step, decay_steps, decay_rate)\n",
    "    optimizer = tf.train.GradientDescentOptimizer(learning_rate = learning_rate).minimize(loss)\n",
    "    \n",
    "    # Predicts\n",
    "    pred_train = tf.nn.softmax(logits)\n",
    "    \n",
    "    logits_valid = tf.matmul(tf_valid_dataset, weights_1) + bias_1\n",
    "    relu_valid = tf.nn.relu(logits_valid)\n",
    "    pred_valid = tf.nn.softmax(tf.matmul(relu_valid, weights_2) + bias_2)\n",
    "    \n",
    "    logits_test = tf.matmul(tf_test_dataset, weights_1) + bias_1\n",
    "    relu_test = tf.nn.relu(logits_test)\n",
    "    pred_test = tf.nn.softmax(tf.matmul(relu_test, weights_2) + bias_2)\n",
    "    "
   ]
  },
  {
   "cell_type": "code",
   "execution_count": 39,
   "metadata": {},
   "outputs": [
    {
     "name": "stdout",
     "output_type": "stream",
     "text": [
      "Initialized\n",
      "Loss at step 0: 457.989288\n",
      "Training accuracy: 9.8%\n",
      "Validation accuracy: 27.9%\n",
      "Loss at step 50: 85.762344\n",
      "Training accuracy: 72.6%\n",
      "Validation accuracy: 77.6%\n",
      "Loss at step 100: 72.076103\n",
      "Training accuracy: 75.6%\n",
      "Validation accuracy: 80.1%\n",
      "Loss at step 150: 54.977676\n",
      "Training accuracy: 77.0%\n",
      "Validation accuracy: 80.6%\n",
      "Loss at step 200: 44.105583\n",
      "Training accuracy: 80.4%\n",
      "Validation accuracy: 81.5%\n",
      "Loss at step 250: 40.892647\n",
      "Training accuracy: 75.8%\n",
      "Validation accuracy: 81.9%\n",
      "Loss at step 300: 37.808998\n",
      "Training accuracy: 77.2%\n",
      "Validation accuracy: 80.9%\n",
      "Loss at step 350: 29.687538\n",
      "Training accuracy: 78.8%\n",
      "Validation accuracy: 82.5%\n",
      "Loss at step 400: 31.920956\n",
      "Training accuracy: 76.6%\n",
      "Validation accuracy: 82.6%\n",
      "Loss at step 450: 26.198807\n",
      "Training accuracy: 74.0%\n",
      "Validation accuracy: 82.1%\n",
      "Loss at step 500: 22.735498\n",
      "Training accuracy: 78.6%\n",
      "Validation accuracy: 82.4%\n",
      "Loss at step 550: 15.746124\n",
      "Training accuracy: 84.0%\n",
      "Validation accuracy: 83.5%\n",
      "Loss at step 600: 15.219471\n",
      "Training accuracy: 83.2%\n",
      "Validation accuracy: 83.5%\n",
      "Loss at step 650: 15.709917\n",
      "Training accuracy: 79.0%\n",
      "Validation accuracy: 83.0%\n",
      "Loss at step 700: 11.601288\n",
      "Training accuracy: 81.4%\n",
      "Validation accuracy: 83.9%\n",
      "Loss at step 750: 12.911203\n",
      "Training accuracy: 79.2%\n",
      "Validation accuracy: 81.5%\n",
      "Loss at step 800: 8.942477\n",
      "Training accuracy: 81.2%\n",
      "Validation accuracy: 82.6%\n",
      "Loss at step 850: 9.425688\n",
      "Training accuracy: 82.8%\n",
      "Validation accuracy: 81.7%\n",
      "Loss at step 900: 8.487317\n",
      "Training accuracy: 79.8%\n",
      "Validation accuracy: 79.3%\n",
      "Loss at step 950: 9.397204\n",
      "Training accuracy: 81.4%\n",
      "Validation accuracy: 81.0%\n",
      "Loss at step 1000: 7.351982\n",
      "Training accuracy: 81.6%\n",
      "Validation accuracy: 82.9%\n",
      "Test accuracy: 89.2%\n"
     ]
    }
   ],
   "source": [
    "num_steps = 1001\n",
    "with tf.Session(graph = graph) as sess:\n",
    "    tf.initialize_all_variables().run()\n",
    "    print(\"Initialized\")\n",
    "    for step in range(num_steps):\n",
    "        offset = (step * batch_size) % (train_labels.shape[0] - batch_size)\n",
    "        batch_data = train_dataset[offset : (offset + batch_size), :]\n",
    "        batch_labels = train_labels[offset : (offset + batch_size), :]\n",
    "        \n",
    "        feed_dict = {tf_train_dataset: batch_data, \n",
    "                    tf_train_label: batch_labels}\n",
    "        \n",
    "        _, l, predictions = sess.run([optimizer, loss, pred_train], feed_dict = feed_dict)\n",
    "        \n",
    "        if step % 50 == 0:\n",
    "            print('Loss at step %d: %f' % (step, l))\n",
    "            print('Training accuracy: %.1f%%' % accuracy(predictions, batch_labels))\n",
    "            # Calling .eval() on valid_prediction is basically like calling run(), but\n",
    "            # just to get that one numpy array. Note that it recomputes all its graph dependencies.\n",
    "            print('Validation accuracy: %.1f%%' % accuracy(pred_valid.eval(), valid_labels))\n",
    "    print('Test accuracy: %.1f%%' % accuracy(pred_test.eval(), test_labels))"
   ]
  },
  {
   "cell_type": "markdown",
   "metadata": {},
   "source": [
    "** One can see that by adding learnig rate decay the test accuracy got improved, in the mean time, the run time got reduced **"
   ]
  },
  {
   "cell_type": "markdown",
   "metadata": {},
   "source": [
    "Future: adding more hidden layers to improve test accuracy"
   ]
  },
  {
   "cell_type": "code",
   "execution_count": null,
   "metadata": {},
   "outputs": [],
   "source": []
  }
 ],
 "metadata": {
  "colab": {
   "default_view": {},
   "name": "3_regularization.ipynb",
   "provenance": [],
   "version": "0.3.2",
   "views": {}
  },
  "kernelspec": {
   "display_name": "Python 3",
   "language": "python",
   "name": "python3"
  },
  "language_info": {
   "codemirror_mode": {
    "name": "ipython",
    "version": 3
   },
   "file_extension": ".py",
   "mimetype": "text/x-python",
   "name": "python",
   "nbconvert_exporter": "python",
   "pygments_lexer": "ipython3",
   "version": "3.6.5"
  }
 },
 "nbformat": 4,
 "nbformat_minor": 1
}
